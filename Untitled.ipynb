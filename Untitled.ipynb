{
 "cells": [
  {
   "cell_type": "markdown",
   "metadata": {},
   "source": [
    "## ANÁLISE DE UMA TORRE DE LT SUBMETIDA À AÇÃO DO VENTO\n",
    "\n",
    "### MONTAGEM DA MATRIZ DE RIGIDEZ GLOBAL\n",
    "\n",
    "Primeiro, estou fazendo um teste para um exemplo didático de treliça 3D. Se funcionar, usamos para a torre de LT."
   ]
  },
  {
   "cell_type": "code",
   "execution_count": 105,
   "metadata": {},
   "outputs": [],
   "source": [
    "import numpy as np\n",
    "import pandas as pd\n",
    "import matplotlib.pyplot as plt"
   ]
  },
  {
   "cell_type": "code",
   "execution_count": 81,
   "metadata": {},
   "outputs": [
    {
     "name": "stdout",
     "output_type": "stream",
     "text": [
      "[ 0.20714031 -0.20714031  0.        ]\n"
     ]
    }
   ],
   "source": [
    "E = 1e7         # Módulo de Elasticidade em kN/m²\n",
    "nele = 3        # Número de elementos (barras)\n",
    "nnos = 4        # Número de Nós\n",
    "\n",
    "# Lendo um arquivo em .xls que contém o número dos nós e suas coordenadas x, y e z\n",
    "\n",
    "nos = pd.read_excel (r'data\\nos.xlsx')  # Importa a planilha com as coordenadas dos nós\n",
    "dados = nos.values                      # Transforma os dados da planilha em uma matriz\n",
    "\n",
    "x = dados[:,1]\n",
    "y = dados[:,2]\n",
    "z = dados[:,3]\n",
    "\n",
    "cone = pd.read_excel (r'data\\elementos.xlsx')\n",
    "dados2 = cone.values\n",
    "\n",
    "ni = dados2[:,1]  # Nós iniciais\n",
    "nf = dados2[:,2]  # Nós finais\n",
    "A = dados2[:,4]   # Área de seção\n",
    "EA = A*E\n",
    "#Elemento 1\n",
    "L = np.zeros(nele)\n",
    "Cx = np.zeros(nele)\n",
    "Cy = np.zeros(nele)\n",
    "Cz = np.zeros(nele)\n",
    "\n",
    "for i in range(nele):\n",
    "\n",
    "    ni1 = ni[i] \n",
    "    nf1 = nf[i]\n",
    " \n",
    "    L[i] = np.sqrt((x[int(ni1-1)]-x[int(nf1-1)])**2 + (y[int(ni1-1)]-y[int(nf1-1)])**2 + (z[int(ni1-1)]-z[int(nf1-1)])**2)\n",
    "\n",
    "    Cx[i] = (x[int(ni1-1)]-x[int(nf1-1)])/L[i]\n",
    "    Cy[i] = (y[int(ni1-1)]-y[int(nf1-1)])/L[i]\n",
    "    Cz[i] = (z[int(ni1-1)]-z[int(nf1-1)])/L[i]\n",
    "    "
   ]
  },
  {
   "cell_type": "code",
   "execution_count": 104,
   "metadata": {},
   "outputs": [
    {
     "name": "stdout",
     "output_type": "stream",
     "text": [
      "[[ 6.97691612e+02  0.00000000e+00  0.00000000e+00 -6.97691612e+02\n",
      "   0.00000000e+00  0.00000000e+00  0.00000000e+00  0.00000000e+00\n",
      "   0.00000000e+00  0.00000000e+00  0.00000000e+00  0.00000000e+00]\n",
      " [ 0.00000000e+00  2.30105527e+04  1.87480282e+01  0.00000000e+00\n",
      "  -2.30105527e+04 -1.87480282e+01  0.00000000e+00  0.00000000e+00\n",
      "   0.00000000e+00  0.00000000e+00  0.00000000e+00  0.00000000e+00]\n",
      " [ 0.00000000e+00  1.87480282e+01  6.87948912e+02  0.00000000e+00\n",
      "  -1.87480282e+01 -6.87948912e+02  0.00000000e+00  0.00000000e+00\n",
      "   0.00000000e+00  0.00000000e+00  0.00000000e+00  0.00000000e+00]\n",
      " [-6.97691612e+02  0.00000000e+00  0.00000000e+00  1.39538322e+03\n",
      "   0.00000000e+00  0.00000000e+00 -6.97691612e+02  0.00000000e+00\n",
      "   0.00000000e+00  0.00000000e+00  0.00000000e+00  0.00000000e+00]\n",
      " [ 0.00000000e+00 -2.30105527e+04 -1.87480282e+01  0.00000000e+00\n",
      "   4.60211053e+04  3.74960565e+01  0.00000000e+00 -2.30105527e+04\n",
      "  -1.87480282e+01  0.00000000e+00  0.00000000e+00  0.00000000e+00]\n",
      " [ 0.00000000e+00 -1.87480282e+01 -6.87948912e+02  0.00000000e+00\n",
      "   3.74960565e+01  1.37589782e+03  0.00000000e+00 -1.87480282e+01\n",
      "  -6.87948912e+02  0.00000000e+00  0.00000000e+00  0.00000000e+00]\n",
      " [ 0.00000000e+00  0.00000000e+00  0.00000000e+00 -6.97691612e+02\n",
      "   0.00000000e+00  0.00000000e+00  1.39538322e+03  0.00000000e+00\n",
      "   0.00000000e+00 -6.97691612e+02  0.00000000e+00  0.00000000e+00]\n",
      " [ 0.00000000e+00  0.00000000e+00  0.00000000e+00  0.00000000e+00\n",
      "  -2.30105527e+04 -1.87480282e+01  0.00000000e+00  4.60211053e+04\n",
      "   3.74960565e+01  0.00000000e+00 -2.30105527e+04 -1.87480282e+01]\n",
      " [ 0.00000000e+00  0.00000000e+00  0.00000000e+00  0.00000000e+00\n",
      "  -1.87480282e+01 -6.87948912e+02  0.00000000e+00  3.74960565e+01\n",
      "   1.37589782e+03  0.00000000e+00 -1.87480282e+01 -6.87948912e+02]\n",
      " [ 0.00000000e+00  0.00000000e+00  0.00000000e+00  0.00000000e+00\n",
      "   0.00000000e+00  0.00000000e+00 -6.97691612e+02  0.00000000e+00\n",
      "   0.00000000e+00  6.97691612e+02  0.00000000e+00  0.00000000e+00]\n",
      " [ 0.00000000e+00  0.00000000e+00  0.00000000e+00  0.00000000e+00\n",
      "   0.00000000e+00  0.00000000e+00  0.00000000e+00 -2.30105527e+04\n",
      "  -1.87480282e+01  0.00000000e+00  2.30105527e+04  1.87480282e+01]\n",
      " [ 0.00000000e+00  0.00000000e+00  0.00000000e+00  0.00000000e+00\n",
      "   0.00000000e+00  0.00000000e+00  0.00000000e+00 -1.87480282e+01\n",
      "  -6.87948912e+02  0.00000000e+00  1.87480282e+01  6.87948912e+02]]\n"
     ]
    }
   ],
   "source": [
    "KG  =  np.zeros((3*nnos,3*nnos))  # Matriz global com zeros\n",
    "\n",
    "k11 = Cx*Cx*EA/L;\n",
    "k12 = Cx*Cy*EA/L;\n",
    "k13 = Cx*Cz*EA/L;\n",
    "k22 = Cy*Cy*EA/L;\n",
    "k23 = Cy*Cz*EA/L;\n",
    "k33 = Cz*Cz*EA/L;\n",
    "\n",
    "for k in range(nnos-1):\n",
    "    \n",
    "    for p in range(nnos-1):\n",
    "        i1   = 3*k;       #0\n",
    "        i2   = 3*k + 1;   #1\n",
    "        i3   = 3*k + 2;   #2\n",
    "        i4   = 3*k + 3;   #3\n",
    "        i5   = 3*k + 4;   #4\n",
    "        i6   = 3*k + 5;   #5\n",
    "    \n",
    "        k11k = k11[p];\n",
    "        k12k = k12[p];\n",
    "        k13k = k13[p];\n",
    "        k22k = k22[p];\n",
    "        k23k = k23[p];\n",
    "        k33k = k33[p];\n",
    "       \n",
    "        KG[i1,i1] = KG[i1,i1] + k11k;\n",
    "        KG[i1,i2] = KG[i1,i2] + k12k;    KG[i2,i1] = KG[i2,i1] + k12k;\n",
    "        KG[i1,i3] = KG[i1,i3] + k13k;    KG[i3,i1] = KG[i3,i1] + k13k; \n",
    "        KG[i1,i4] = KG[i1,i4] - k11k;    KG[i4,i1] = KG[i4,i1] - k11k; \n",
    "        KG[i1,i5] = KG[i1,i5] - k12k;    KG[i5,i1] = KG[i5,i1] - k12k;\n",
    "        KG[i1,i6] = KG[i1,i6] - k13k;    KG[i6,i1] = KG[i6,i1] - k13k\n",
    "      \n",
    "            \n",
    "        KG[i2,i2] = KG[i2,i2] + k22k;\n",
    "        KG[i2,i3] = KG[i2,i3] + k23k;    KG[i3,i2] = KG[i3,i2] + k23k;\n",
    "        KG[i2,i4] = KG[i2,i4] - k12k;    KG[i4,i2] = KG[i4,i2] + k12k;\n",
    "        KG[i2,i5] = KG[i2,i5] - k22k;    KG[i5,i2] = KG[i5,i2] - k22k;\n",
    "        KG[i2,i6] = KG[i2,i6] - k23k;    KG[i6,i2] = KG[i6,i2] - k23k;\n",
    "        \n",
    "    \n",
    "        KG[i3,i3] = KG[i3,i3] + k33k;    \n",
    "        KG[i3,i4] = KG[i3,i4] - k13k;    KG[i4,i3] = KG[i4,i3] - k13k;\n",
    "        KG[i3,i5] = KG[i3,i5] - k23k;    KG[i5,i3] = KG[i5,i3] - k23k;\n",
    "        KG[i3,i6] = KG[i3,i6] - k33k;    KG[i6,i3] = KG[i6,i3] - k33k;\n",
    "        \n",
    "       \n",
    "        KG[i4,i4] = KG[i4,i4] + k11k;\n",
    "        KG[i4,i5] = KG[i4,i5] + k12k;    KG[i5,i4] = KG[i5,i4] + k12k;\n",
    "        KG[i4,i6] = KG[i4,i6] + k13k;    KG[i6,i4] = KG[i6,i4] + k13k;\n",
    "       \n",
    "        \n",
    "        KG[i5,i5] = KG[i5,i5] + k22k;\n",
    "        KG[i5,i6] = KG[i5,i6] + k23k;    KG[i6,i5] = KG[i6,i5] + k23k;\n",
    "        \n",
    "        KG[i6,i6] = KG[i6,i6] + k33k\n",
    "\n",
    "print(KG)"
   ]
  },
  {
   "cell_type": "code",
   "execution_count": 107,
   "metadata": {},
   "outputs": [
    {
     "data": {
      "image/png": "[encoded data removed]",
      "text/plain": [
       "<Figure size 576x576 with 1 Axes>"
      ]
     },
     "metadata": {
      "needs_background": "light"
     },
     "output_type": "display_data"
    }
   ],
   "source": [
    "plt.figure(2, figsize=(8,8))\n",
    "KG = plt.imshow(KG, cmap=plt.cm.bone)"
   ]
  },
  {
   "cell_type": "code",
   "execution_count": null,
   "metadata": {},
   "outputs": [],
   "source": []
  }
 ],
 "metadata": {
  "kernelspec": {
   "display_name": "Python 3",
   "language": "python",
   "name": "python3"
  },
  "language_info": {
   "codemirror_mode": {
    "name": "ipython",
    "version": 3
   },
   "file_extension": ".py",
   "mimetype": "text/x-python",
   "name": "python",
   "nbconvert_exporter": "python",
   "pygments_lexer": "ipython3",
   "version": "3.7.1"
  }
 },
 "nbformat": 4,
 "nbformat_minor": 2
}
