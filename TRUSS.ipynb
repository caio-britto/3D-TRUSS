{
 "cells": [
  {
   "cell_type": "markdown",
   "metadata": {},
   "source": [
    "## ANÁLISE DE UMA TORRE DE LT SUBMETIDA À AÇÃO DO VENTO\n",
    "\n",
    "### MONTAGEM DA MATRIZ DE RIGIDEZ GLOBAL\n",
    "\n",
    "Primeiro, estou fazendo um teste para um exemplo didático de treliça 3D. Se funcionar, usamos para a torre de LT."
   ]
  },
  {
   "cell_type": "code",
   "execution_count": 154,
   "metadata": {},
   "outputs": [],
   "source": [
    "import numpy as np\n",
    "import pandas as pd\n",
    "import matplotlib.pyplot as plt"
   ]
  },
  {
   "cell_type": "code",
   "execution_count": 155,
   "metadata": {},
   "outputs": [],
   "source": [
    "# Lendo um arquivo em .xls que contém o número dos nós e suas coordenadas x, y e z\n",
    "\n",
    "nos = pd.read_excel (r'data\\nos.xlsx')  # Importa a planilha com as coordenadas dos nós\n",
    "dados = nos.values                      # Transforma os dados da planilha em uma matriz\n",
    "\n",
    "x = dados[:,1]\n",
    "y = dados[:,2]\n",
    "z = dados[:,3]\n",
    "\n",
    "cone = pd.read_excel (r'data\\elementos.xlsx')\n",
    "dados2 = cone.values\n",
    "\n",
    "nele = len(dados2)  # Número de elementos (barras)\n",
    "nnos = len(dados)   # Número de Nós\n",
    "\n",
    "ni = dados2[:,1]    # Nós iniciais\n",
    "nf = dados2[:,2]    # Nós finais\n",
    "A  = dados2[:,3]    # Área de seção em m²\n",
    "E  = dados2[:,4]    # Módulo de Elasticidade em N/m²\n",
    "EA = A*E            # Rigidez Axial\n",
    "\n",
    "L = np.zeros(nele)  # Vetor que armazenará os comprimentos\n",
    "\n",
    "Cx = np.zeros(nele) # Vetores que armazenarão os cossenos diretores\n",
    "Cy = np.zeros(nele)\n",
    "Cz = np.zeros(nele)\n",
    "\n",
    "for i in range(nele):\n",
    "\n",
    "    ni1 = ni[i] \n",
    "    nf1 = nf[i]\n",
    " \n",
    "    L[i] = np.sqrt((x[int(ni1-1)]-x[int(nf1-1)])**2 + (y[int(ni1-1)]-y[int(nf1-1)])**2 + (z[int(ni1-1)]-z[int(nf1-1)])**2)\n",
    "\n",
    "    Cx[i] = (x[int(ni1-1)]-x[int(nf1-1)])/L[i]\n",
    "    Cy[i] = (y[int(ni1-1)]-y[int(nf1-1)])/L[i]\n",
    "    Cz[i] = (z[int(ni1-1)]-z[int(nf1-1)])/L[i]"
   ]
  },
  {
   "cell_type": "code",
   "execution_count": 156,
   "metadata": {
    "scrolled": true
   },
   "outputs": [
    {
     "name": "stdout",
     "output_type": "stream",
     "text": [
      "[[ 1.36424185e+11  1.57051086e+05 -9.53901425e+05 ...  0.00000000e+00\n",
      "   0.00000000e+00  0.00000000e+00]\n",
      " [ 1.57051086e+05  2.18463552e+11  2.49102202e+06 ...  0.00000000e+00\n",
      "   0.00000000e+00  0.00000000e+00]\n",
      " [-9.53901425e+05  2.49102202e+06  1.38453706e+11 ...  0.00000000e+00\n",
      "   0.00000000e+00  0.00000000e+00]\n",
      " ...\n",
      " [ 0.00000000e+00  0.00000000e+00  0.00000000e+00 ...  1.36424185e+11\n",
      "   1.57051086e+05 -9.53901425e+05]\n",
      " [ 0.00000000e+00  0.00000000e+00  0.00000000e+00 ...  1.57051086e+05\n",
      "   2.18463552e+11  2.49102202e+06]\n",
      " [ 0.00000000e+00  0.00000000e+00  0.00000000e+00 ... -9.53901425e+05\n",
      "   2.49102202e+06  1.38453706e+11]]\n"
     ]
    }
   ],
   "source": [
    "KG  =  np.zeros((3*nnos,3*nnos))  # Matriz global com zeros\n",
    "\n",
    "# Valores que se repetem ao longo das matrizes de elementos:\n",
    "\n",
    "k11 = Cx*Cx*EA/L;\n",
    "k12 = Cx*Cy*EA/L;\n",
    "k13 = Cx*Cz*EA/L;\n",
    "k22 = Cy*Cy*EA/L;\n",
    "k23 = Cy*Cz*EA/L;\n",
    "k33 = Cz*Cz*EA/L;\n",
    "\n",
    "for k in range(nnos-1):\n",
    "    \n",
    "    for p in range(nnos-1):\n",
    "        i1   = 3*k;       #0\n",
    "        i2   = 3*k + 1;   #1\n",
    "        i3   = 3*k + 2;   #2\n",
    "        i4   = 3*k + 3;   #3\n",
    "        i5   = 3*k + 4;   #4\n",
    "        i6   = 3*k + 5;   #5\n",
    "    \n",
    "        k11k = k11[p];\n",
    "        k12k = k12[p];\n",
    "        k13k = k13[p];\n",
    "        k22k = k22[p];\n",
    "        k23k = k23[p];\n",
    "        k33k = k33[p];\n",
    "       \n",
    "        KG[i1,i1] = KG[i1,i1] + k11k;\n",
    "        KG[i1,i2] = KG[i1,i2] + k12k;    KG[i2,i1] = KG[i2,i1] + k12k;\n",
    "        KG[i1,i3] = KG[i1,i3] + k13k;    KG[i3,i1] = KG[i3,i1] + k13k; \n",
    "        KG[i1,i4] = KG[i1,i4] - k11k;    KG[i4,i1] = KG[i4,i1] - k11k; \n",
    "        KG[i1,i5] = KG[i1,i5] - k12k;    KG[i5,i1] = KG[i5,i1] - k12k;\n",
    "        KG[i1,i6] = KG[i1,i6] - k13k;    KG[i6,i1] = KG[i6,i1] - k13k\n",
    "      \n",
    "            \n",
    "        KG[i2,i2] = KG[i2,i2] + k22k;\n",
    "        KG[i2,i3] = KG[i2,i3] + k23k;    KG[i3,i2] = KG[i3,i2] + k23k;\n",
    "        KG[i2,i4] = KG[i2,i4] - k12k;    KG[i4,i2] = KG[i4,i2] + k12k;\n",
    "        KG[i2,i5] = KG[i2,i5] - k22k;    KG[i5,i2] = KG[i5,i2] - k22k;\n",
    "        KG[i2,i6] = KG[i2,i6] - k23k;    KG[i6,i2] = KG[i6,i2] - k23k;\n",
    "        \n",
    "    \n",
    "        KG[i3,i3] = KG[i3,i3] + k33k;    \n",
    "        KG[i3,i4] = KG[i3,i4] - k13k;    KG[i4,i3] = KG[i4,i3] - k13k;\n",
    "        KG[i3,i5] = KG[i3,i5] - k23k;    KG[i5,i3] = KG[i5,i3] - k23k;\n",
    "        KG[i3,i6] = KG[i3,i6] - k33k;    KG[i6,i3] = KG[i6,i3] - k33k;\n",
    "        \n",
    "       \n",
    "        KG[i4,i4] = KG[i4,i4] + k11k;\n",
    "        KG[i4,i5] = KG[i4,i5] + k12k;    KG[i5,i4] = KG[i5,i4] + k12k;\n",
    "        KG[i4,i6] = KG[i4,i6] + k13k;    KG[i6,i4] = KG[i6,i4] + k13k;\n",
    "       \n",
    "        \n",
    "        KG[i5,i5] = KG[i5,i5] + k22k;\n",
    "        KG[i5,i6] = KG[i5,i6] + k23k;    KG[i6,i5] = KG[i6,i5] + k23k;\n",
    "        \n",
    "        KG[i6,i6] = KG[i6,i6] + k33k\n",
    "\n",
    "print(KG)"
   ]
  },
  {
   "cell_type": "code",
   "execution_count": 147,
   "metadata": {},
   "outputs": [],
   "source": [
    "#plt.figure(2, figsize=(8,8))\n",
    "#KG = plt.imshow(KG, cmap=plt.cm.bone)"
   ]
  },
  {
   "cell_type": "code",
   "execution_count": 148,
   "metadata": {},
   "outputs": [
    {
     "name": "stdout",
     "output_type": "stream",
     "text": [
      "[[71687.02065941     0.             0.         ...     0.\n",
      "      0.             0.        ]\n",
      " [    0.         71687.02065941     0.         ...     0.\n",
      "      0.             0.        ]\n",
      " [    0.             0.         71687.02065941 ...     0.\n",
      "      0.             0.        ]\n",
      " ...\n",
      " [    0.             0.             0.         ... 71687.02065941\n",
      "      0.             0.        ]\n",
      " [    0.             0.             0.         ...     0.\n",
      "  71687.02065941     0.        ]\n",
      " [    0.             0.             0.         ...     0.\n",
      "      0.         71687.02065941]]\n"
     ]
    }
   ],
   "source": [
    "#Matriz de Massa Consistente\n",
    "\n",
    "rho = 7850  # Massa específica em kg/m³\n",
    "\n",
    "MG  =  np.zeros((3*nnos,3*nnos))  # Matriz de Massa global com zeros\n",
    "\n",
    "# Valores que se repetem ao longo das matrizes de elementos:\n",
    "\n",
    "m11 = 2*rho*A*L/6;\n",
    "m14 = 1*rho*A*L/6;\n",
    "\n",
    "for k in range(nnos-1):\n",
    "    \n",
    "    for p in range(nnos-1):\n",
    "        i1   = 3*k;       #0\n",
    "        i2   = 3*k + 1;   #1\n",
    "        i3   = 3*k + 2;   #2\n",
    "        i4   = 3*k + 3;   #3\n",
    "        i5   = 3*k + 4;   #4\n",
    "        i6   = 3*k + 5;   #5\n",
    "    \n",
    "        m11m = m11[p];\n",
    "        m14m = m14[p];\n",
    "       \n",
    "        MG[i1,i1] = MG[i1,i1] + m11m;\n",
    "        MG[i1,i2] = MG[i1,i2] + 0;       MG[i2,i1] = MG[i2,i1] + 0;\n",
    "        MG[i1,i3] = MG[i1,i3] + 0;       MG[i3,i1] = MG[i3,i1] + 0; \n",
    "        MG[i1,i4] = MG[i1,i4] + m14m;    MG[i4,i1] = MG[i4,i1] + m14m; \n",
    "        MG[i1,i5] = MG[i1,i5] + 0;       MG[i5,i1] = MG[i5,i1] + 0;\n",
    "        MG[i1,i6] = MG[i1,i6] + 0;       MG[i6,i1] = MG[i6,i1] + 0\n",
    "      \n",
    "            \n",
    "        MG[i2,i2] = MG[i2,i2] + m11m;\n",
    "        MG[i2,i3] = MG[i2,i3] + 0;       MG[i3,i2] = MG[i3,i2] + 0;\n",
    "        MG[i2,i4] = MG[i2,i4] + 0;       MG[i4,i2] = MG[i4,i2] + 0;\n",
    "        MG[i2,i5] = MG[i2,i5] + m14m;    MG[i5,i2] = MG[i5,i2] + m14m;\n",
    "        MG[i2,i6] = MG[i2,i6] + 0;       MG[i6,i2] = MG[i6,i2] + 0;\n",
    "        \n",
    "    \n",
    "        MG[i3,i3] = MG[i3,i3] + m11m;    \n",
    "        MG[i3,i4] = MG[i3,i4] + 0;       MG[i4,i3] = MG[i4,i3] + 0;\n",
    "        MG[i3,i5] = MG[i3,i5] + 0;       MG[i5,i3] = MG[i5,i3] + 0;\n",
    "        MG[i3,i6] = MG[i3,i6] + m14m;    MG[i6,i3] = MG[i6,i3] + m14m;\n",
    "        \n",
    "       \n",
    "        MG[i4,i4] = MG[i4,i4] + m11m;\n",
    "        MG[i4,i5] = MG[i4,i5] + 0;      MG[i5,i4] = MG[i5,i4] + 0;\n",
    "        MG[i4,i6] = MG[i4,i6] + 0;      MG[i6,i4] = MG[i6,i4] + 0;\n",
    "       \n",
    "        \n",
    "        MG[i5,i5] = MG[i5,i5] + m11m;\n",
    "        MG[i5,i6] = MG[i5,i6] + 0;      MG[i6,i5] = MG[i6,i5] + 0;\n",
    "        \n",
    "        MG[i6,i6] = MG[i6,i6] + m11m\n",
    "\n",
    "print(MG)"
   ]
  },
  {
   "cell_type": "code",
   "execution_count": 149,
   "metadata": {},
   "outputs": [
    {
     "data": {
      "text/plain": [
       "756"
      ]
     },
     "execution_count": 149,
     "metadata": {},
     "output_type": "execute_result"
    }
   ],
   "source": [
    "#Eliminando das matrizes os graus de liberdade restringidos\n",
    "\n",
    "KG = KG[12:,12:]\n",
    "MG = MG[12:,12:]\n",
    "#print(KG)\n",
    "len(MG)"
   ]
  },
  {
   "cell_type": "code",
   "execution_count": 150,
   "metadata": {},
   "outputs": [
    {
     "name": "stdout",
     "output_type": "stream",
     "text": [
      "[0.79014162 0.79599726 0.99988209 2.37045567 2.3880227  2.99968502\n",
      " 3.95086181 3.98014092 4.99960453]\n"
     ]
    }
   ],
   "source": [
    "# Solução do problema de autovalores com o módulo scipy\n",
    "\n",
    "import scipy.linalg as sc\n",
    "w2, Phi  =  sc.eig(KG, MG)\n",
    "\n",
    "# Impõe ordem crescente dos modos\n",
    "iw  = w2.argsort()\n",
    "w2  = w2[iw]\n",
    "Phi = Phi[:,iw]\n",
    "\n",
    "# Converte autovalores em frequências\n",
    "wk  = np.sqrt(np.real(w2)) \n",
    "fk  = wk/2/np.pi\n",
    "\n",
    "print(fk[0:9])"
   ]
  },
  {
   "cell_type": "code",
   "execution_count": null,
   "metadata": {},
   "outputs": [],
   "source": []
  },
  {
   "cell_type": "code",
   "execution_count": null,
   "metadata": {},
   "outputs": [],
   "source": []
  }
 ],
 "metadata": {
  "kernelspec": {
   "display_name": "Python 3",
   "language": "python",
   "name": "python3"
  },
  "language_info": {
   "codemirror_mode": {
    "name": "ipython",
    "version": 3
   },
   "file_extension": ".py",
   "mimetype": "text/x-python",
   "name": "python",
   "nbconvert_exporter": "python",
   "pygments_lexer": "ipython3",
   "version": "3.7.1"
  }
 },
 "nbformat": 4,
 "nbformat_minor": 2
}
